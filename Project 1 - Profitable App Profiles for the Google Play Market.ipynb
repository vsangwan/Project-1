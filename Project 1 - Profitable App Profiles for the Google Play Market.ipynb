{
 "cells": [
  {
   "cell_type": "markdown",
   "metadata": {},
   "source": [
    "### Profitable App Profiles for the Google Play Market\n",
    "1.What kinds of apps are likely to attract more users on Google Play Store.<br/>\n",
    "2.To do this, we'll need to collect and analyze data about mobile apps available on Google Play."
   ]
  },
  {
   "cell_type": "code",
   "execution_count": 96,
   "metadata": {},
   "outputs": [],
   "source": [
    "from csv import reader\n",
    "opened_file=open('Data\\google-play-store-apps\\googleplaystore.csv',encoding=\"utf8\")\n",
    "read_file=reader(opened_file)\n",
    "google_list=list(read_file)"
   ]
  },
  {
   "cell_type": "markdown",
   "metadata": {},
   "source": [
    "### Dataset Documentation\n",
    "1.App-Application name <br/>\n",
    "2.Category-Category the app belongs to <br/>\n",
    "3.Rating-Overall user rating of the app (as when scraped) <br/>\n",
    "4.Reviews-Number of user reviews for the app (as when scraped) <br/>\n",
    "5.Size-Size of the app (as when scraped) <br/>\n",
    "6.Installs-Number of user downloads/installs for the app (as when scraped) <br/>\n",
    "7.Type-Paid or Free <br/>\n",
    "8.Price-Price of the app (as when scraped) <br/>\n",
    "9.Content Rating-Age group the app is targeted at - Children / Mature 21+ / Adult <br/>\n",
    "10.Genres-An app can belong to multiple genres (apart from its main category). For eg, a musical family game will belong to Music, Game, Family genres. <br/>\n",
    "11.Last Updated-Date when the app was last updated on Play Store (as when scraped) <br/>\n",
    "12.Current Ver-Current version of the app available on Play Store (as when scraped) <br/>\n",
    "13.Android Ver-Min required Android version (as when scraped) <br/>"
   ]
  },
  {
   "cell_type": "code",
   "execution_count": 97,
   "metadata": {},
   "outputs": [],
   "source": [
    "def explore_data(dataset, start, end, rows_and_columns=False):\n",
    "    dataset_slice = dataset[start:end]    \n",
    "    for row in dataset_slice:\n",
    "        print(row)\n",
    "        print('\\n') # adds a new (empty) line after each row\n",
    "\n",
    "    if rows_and_columns:\n",
    "        print('Number of rows:', len(dataset))\n",
    "        print('Number of columns:', len(dataset[0]))"
   ]
  },
  {
   "cell_type": "markdown",
   "metadata": {},
   "source": [
    "Data set is open and performed a brief exploration of the data. Before beginning the analysis, we need to make sure the data we analyze is accurate, otherwise the results of our analysis will be wrong. This means that we'll need to:\n",
    "\n",
    "Detect inaccurate data and correct (or remove) it\n",
    "<br/>Detect duplicate data and remove the duplicates"
   ]
  },
  {
   "cell_type": "code",
   "execution_count": 98,
   "metadata": {},
   "outputs": [],
   "source": [
    "del google_list[10473]\n",
    "#Row deleted after comment from dataset provider\n",
    "#DO NOT run this code twice"
   ]
  },
  {
   "cell_type": "code",
   "execution_count": 99,
   "metadata": {
    "scrolled": true
   },
   "outputs": [
    {
     "name": "stdout",
     "output_type": "stream",
     "text": [
      "['osmino Wi-Fi: free WiFi', 'TOOLS', '4.2', '134203', '4.1M', '10,000,000+', 'Free', '0', 'Everyone', 'Tools', 'August 7, 2018', '6.06.14', '4.4 and up']\n",
      "\n",
      "\n",
      "['Sat-Fi Voice', 'COMMUNICATION', '3.4', '37', '14M', '1,000+', 'Free', '0', 'Everyone', 'Communication', 'November 21, 2014', '2.2.1.5', '2.2 and up']\n",
      "\n",
      "\n",
      "Number of rows: 10841\n",
      "Number of columns: 13\n"
     ]
    }
   ],
   "source": [
    "explore_data(google_list,10473,10475,True)\n",
    "#checking how many rows left after the del function, should be 10841"
   ]
  },
  {
   "cell_type": "markdown",
   "metadata": {},
   "source": [
    "In the data set it is a possibility that the some of the data is duplicate.<br/>\n",
    "We need to check and remove the duplicates."
   ]
  },
  {
   "cell_type": "code",
   "execution_count": 100,
   "metadata": {},
   "outputs": [
    {
     "name": "stdout",
     "output_type": "stream",
     "text": [
      "1181\n",
      "['Quick PDF Scanner + OCR FREE', 'Box', 'Google My Business', 'ZOOM Cloud Meetings', 'join.me - Simple Meetings']\n",
      "['Box', 'BUSINESS', '4.2', '159872', 'Varies with device', '10,000,000+', 'Free', '0', 'Everyone', 'Business', 'July 31, 2018', 'Varies with device', 'Varies with device']\n",
      "['Box', 'BUSINESS', '4.2', '159872', 'Varies with device', '10,000,000+', 'Free', '0', 'Everyone', 'Business', 'July 31, 2018', 'Varies with device', 'Varies with device']\n",
      "['Box', 'BUSINESS', '4.2', '159872', 'Varies with device', '10,000,000+', 'Free', '0', 'Everyone', 'Business', 'July 31, 2018', 'Varies with device', 'Varies with device']\n"
     ]
    }
   ],
   "source": [
    "duplicate_app=[]\n",
    "unique_app=[]\n",
    "\n",
    "for app in google_list:\n",
    "    name=app[0]\n",
    "    if name in unique_app:\n",
    "        duplicate_app.append(name)\n",
    "    else:\n",
    "        unique_app.append(name)\n",
    "print(len(duplicate_app))\n",
    "print(duplicate_app[:5])\n",
    "\n",
    "for app in google_list:\n",
    "    name=app[0]\n",
    "    if name=='Box':\n",
    "        print(app)\n"
   ]
  },
  {
   "cell_type": "markdown",
   "metadata": {},
   "source": [
    "Returning to our discussion, we don't want to count certain apps more than once when we analyze data, so we need to remove the duplicate entries and keep only one entry per app. One thing we could do is remove the duplicate rows randomly.<br/>\n",
    "\n",
    "If you examine the rows we printed above for the Box app, the main difference happens on the fourth position of each row, which corresponds to the number of reviews. The different numbers show that the data was collected at different times.<br/>\n",
    "\n",
    "We could use this information to build a criterion for removing the duplicates. The higher the number of reviews, the more recent the data should be. Rather than removing duplicates randomly, we'll only keep the row with the highest number of reviews and remove the other entries for any given app.<br/>"
   ]
  },
  {
   "cell_type": "code",
   "execution_count": 101,
   "metadata": {},
   "outputs": [
    {
     "name": "stdout",
     "output_type": "stream",
     "text": [
      "Expected data 9660\n"
     ]
    }
   ],
   "source": [
    "print('Expected data' , len(google_list)-len(duplicate_app))\n",
    "# Expected length including header"
   ]
  },
  {
   "cell_type": "code",
   "execution_count": 102,
   "metadata": {},
   "outputs": [
    {
     "name": "stdout",
     "output_type": "stream",
     "text": [
      "9659\n"
     ]
    }
   ],
   "source": [
    "review_max={}\n",
    "for app in google_list[1:]:\n",
    "    name=app[0]\n",
    "    n_reviews=float(app[3])\n",
    "    if name in review_max and review_max[name] < n_reviews:\n",
    "        review_max[name]=n_reviews\n",
    "    review_max[name]=float(app[3])\n",
    "print(len(review_max))\n",
    "        \n",
    "    "
   ]
  },
  {
   "cell_type": "code",
   "execution_count": 103,
   "metadata": {},
   "outputs": [
    {
     "name": "stdout",
     "output_type": "stream",
     "text": [
      "['Photo Editor & Candy Camera & Grid & ScrapBook', 'ART_AND_DESIGN', '4.1', '159', '19M', '10,000+', 'Free', '0', 'Everyone', 'Art & Design', 'January 7, 2018', '1.0.0', '4.0.3 and up']\n",
      "\n",
      "\n",
      "['U Launcher Lite – FREE Live Cool Themes, Hide Apps', 'ART_AND_DESIGN', '4.7', '87510', '8.7M', '5,000,000+', 'Free', '0', 'Everyone', 'Art & Design', 'August 1, 2018', '1.2.4', '4.0.3 and up']\n",
      "\n",
      "\n",
      "['Sketch - Draw & Paint', 'ART_AND_DESIGN', '4.5', '215644', '25M', '50,000,000+', 'Free', '0', 'Teen', 'Art & Design', 'June 8, 2018', 'Varies with device', '4.2 and up']\n",
      "\n",
      "\n",
      "['Pixel Draw - Number Art Coloring Book', 'ART_AND_DESIGN', '4.3', '967', '2.8M', '100,000+', 'Free', '0', 'Everyone', 'Art & Design;Creativity', 'June 20, 2018', '1.1', '4.4 and up']\n",
      "\n",
      "\n",
      "['Paper flowers instructions', 'ART_AND_DESIGN', '4.4', '167', '5.6M', '50,000+', 'Free', '0', 'Everyone', 'Art & Design', 'March 26, 2017', '1.0', '2.3 and up']\n",
      "\n",
      "\n",
      "Number of rows: 9659\n",
      "Number of columns: 13\n"
     ]
    }
   ],
   "source": [
    "google_clean=[]\n",
    "name_already_added=[]\n",
    "\n",
    "for app in google_list[1:]:\n",
    "    name=app[0]\n",
    "    n_reviews=float(app[3])\n",
    "    if name not in name_already_added and n_reviews==review_max[name]:\n",
    "        google_clean.append(app)\n",
    "        name_already_added.append(name)\n",
    "        \n",
    "explore_data(google_clean,0,5,True)    "
   ]
  },
  {
   "cell_type": "markdown",
   "metadata": {},
   "source": [
    "We managed to remove the duplicate app entries in the Google Play data set. We'd like to analyze only the apps that are directed toward an English-speaking audience. However, if we explore the data long enough, we'll find that both data sets have apps whose name suggests that they are not direct toward an English-speaking audience. <br/>\n",
    "We're not interested in keeping these kind of apps, so we'll remove them. One way to go about this is to remove each app whose name contains a symbol that is not commonly used in English text — English text usually includes letters from the English alphabet, numbers composed of digits from 0 to 9, punctuation marks (., !, ?, ;, etc.), and other symbols (+, *, /, etc.).<br/>\n",
    "The numbers corresponding to the characters we commonly use in an English text are all in the range 0 to 127, according to the ASCII (American Standard Code for Information Interchange) system. Based on this number range, we can build a function that detects whether a character belongs to the set of common English characters or not. If the number is equal to or less than 127, then the character belongs to the set of common English characters, otherwise it doesn't."
   ]
  },
  {
   "cell_type": "code",
   "execution_count": 104,
   "metadata": {},
   "outputs": [
    {
     "data": {
      "text/plain": [
       "False"
      ]
     },
     "execution_count": 104,
     "metadata": {},
     "output_type": "execute_result"
    }
   ],
   "source": [
    "def english(app_name):\n",
    "    for char in app_name:\n",
    "        if ord(char) > 127: #We can get the corresponding number of each character using the ord() built-in function.\n",
    "            return False\n",
    "    return True\n",
    "            \n",
    "english('Instagram')\n",
    "english('Instachat 😜')\n",
    "#Above two are used just to check if function is correct"
   ]
  },
  {
   "cell_type": "markdown",
   "metadata": {},
   "source": [
    "In the previous screen, we wrote a function that detects non-English app names, but we saw that the function couldn't identify correctly certain English app names like 'Instachat 😜'. This is because emojis and some characters like ™ fall outside the ASCII range and have corresponding numbers that are over 127.<br/><br/>\n",
    "\n",
    "If we're going to use the function we've created, we'll lose useful data since many English apps will be incorrectly labeled as non-English. To minimize the impact of data loss, we'll only remove an app if its name has more than three characters with corresponding numbers falling outside the ASCII range. This means all English apps with up to three emoji or other special characters will still be labeled as English. Our filter function is still not perfect, but it should be fairly effective."
   ]
  },
  {
   "cell_type": "code",
   "execution_count": 105,
   "metadata": {},
   "outputs": [
    {
     "data": {
      "text/plain": [
       "True"
      ]
     },
     "execution_count": 105,
     "metadata": {},
     "output_type": "execute_result"
    }
   ],
   "source": [
    "def english(app_name):\n",
    "    non_ascii=0\n",
    "    for char in app_name:\n",
    "        if ord(char) > 127: #We can get the corresponding number of each character using the ord() built-in function.\n",
    "            non_ascii+=1\n",
    "        if non_ascii >3:\n",
    "            return False\n",
    "        else:\n",
    "            return True\n",
    "\n",
    "english('Instachat 😜')"
   ]
  },
  {
   "cell_type": "code",
   "execution_count": 106,
   "metadata": {},
   "outputs": [
    {
     "name": "stdout",
     "output_type": "stream",
     "text": [
      "['Photo Editor & Candy Camera & Grid & ScrapBook', 'ART_AND_DESIGN', '4.1', '159', '19M', '10,000+', 'Free', '0', 'Everyone', 'Art & Design', 'January 7, 2018', '1.0.0', '4.0.3 and up']\n",
      "\n",
      "\n",
      "['U Launcher Lite – FREE Live Cool Themes, Hide Apps', 'ART_AND_DESIGN', '4.7', '87510', '8.7M', '5,000,000+', 'Free', '0', 'Everyone', 'Art & Design', 'August 1, 2018', '1.2.4', '4.0.3 and up']\n",
      "\n",
      "\n",
      "['Sketch - Draw & Paint', 'ART_AND_DESIGN', '4.5', '215644', '25M', '50,000,000+', 'Free', '0', 'Teen', 'Art & Design', 'June 8, 2018', 'Varies with device', '4.2 and up']\n",
      "\n",
      "\n",
      "['Pixel Draw - Number Art Coloring Book', 'ART_AND_DESIGN', '4.3', '967', '2.8M', '100,000+', 'Free', '0', 'Everyone', 'Art & Design;Creativity', 'June 20, 2018', '1.1', '4.4 and up']\n",
      "\n",
      "\n",
      "['Paper flowers instructions', 'ART_AND_DESIGN', '4.4', '167', '5.6M', '50,000+', 'Free', '0', 'Everyone', 'Art & Design', 'March 26, 2017', '1.0', '2.3 and up']\n",
      "\n",
      "\n",
      "Number of rows: 9659\n",
      "Number of columns: 13\n"
     ]
    }
   ],
   "source": [
    "english_app=[]\n",
    "\n",
    "for app in google_clean:\n",
    "    name=app[0]\n",
    "    if english(name):\n",
    "        english_app.append(app)\n",
    "    else:\n",
    "        print(name)\n",
    " \n",
    "explore_data(english_app,0,5,True)"
   ]
  },
  {
   "cell_type": "code",
   "execution_count": 107,
   "metadata": {},
   "outputs": [
    {
     "name": "stdout",
     "output_type": "stream",
     "text": [
      "['Photo Editor & Candy Camera & Grid & ScrapBook', 'ART_AND_DESIGN', '4.1', '159', '19M', '10,000+', 'Free', '0', 'Everyone', 'Art & Design', 'January 7, 2018', '1.0.0', '4.0.3 and up']\n",
      "\n",
      "\n",
      "['U Launcher Lite – FREE Live Cool Themes, Hide Apps', 'ART_AND_DESIGN', '4.7', '87510', '8.7M', '5,000,000+', 'Free', '0', 'Everyone', 'Art & Design', 'August 1, 2018', '1.2.4', '4.0.3 and up']\n",
      "\n",
      "\n",
      "['Sketch - Draw & Paint', 'ART_AND_DESIGN', '4.5', '215644', '25M', '50,000,000+', 'Free', '0', 'Teen', 'Art & Design', 'June 8, 2018', 'Varies with device', '4.2 and up']\n",
      "\n",
      "\n",
      "['Pixel Draw - Number Art Coloring Book', 'ART_AND_DESIGN', '4.3', '967', '2.8M', '100,000+', 'Free', '0', 'Everyone', 'Art & Design;Creativity', 'June 20, 2018', '1.1', '4.4 and up']\n",
      "\n",
      "\n",
      "['Paper flowers instructions', 'ART_AND_DESIGN', '4.4', '167', '5.6M', '50,000+', 'Free', '0', 'Everyone', 'Art & Design', 'March 26, 2017', '1.0', '2.3 and up']\n",
      "\n",
      "\n",
      "Number of rows: 8905\n",
      "Number of columns: 13\n"
     ]
    }
   ],
   "source": [
    "# Isolating free apps\n",
    "\n",
    "app_final=[]\n",
    "\n",
    "for app in english_app:\n",
    "    price=app[7]\n",
    "    if price == '0':\n",
    "        app_final.append(app)\n",
    "        \n",
    "explore_data(app_final,0,5,True)        "
   ]
  },
  {
   "cell_type": "markdown",
   "metadata": {},
   "source": [
    "#### Most common apps by genre\n",
    "\n",
    "We'll build two functions we can use to analyze the frequency tables:<br/><br/>\n",
    "\n",
    "One function to generate frequency tables that show percentages<br/>\n",
    "Another function we can use to display the percentages in a descending order<br/>"
   ]
  },
  {
   "cell_type": "code",
   "execution_count": 108,
   "metadata": {},
   "outputs": [],
   "source": [
    "def freq_table(dataset, index):\n",
    "    table = {}\n",
    "    total = 0\n",
    "    \n",
    "    for row in dataset:\n",
    "        total += 1\n",
    "        value = row[index]\n",
    "        if value in table:\n",
    "            table[value] += 1\n",
    "        else:\n",
    "            table[value] = 1\n",
    "    \n",
    "    table_percentages = {}\n",
    "    for key in table:\n",
    "        percentage = (table[key] / total) * 100\n",
    "        table_percentages[key] = percentage \n",
    "    \n",
    "    return table_percentages\n",
    "\n",
    "\n",
    "def display_table(dataset, index):\n",
    "    table = freq_table(dataset, index)\n",
    "    table_display = []\n",
    "    for key in table:\n",
    "        key_val_as_tuple = (table[key], key)\n",
    "        table_display.append(key_val_as_tuple)\n",
    "        \n",
    "    table_sorted = sorted(table_display, reverse = True)\n",
    "    for entry in table_sorted:\n",
    "        print(entry[1], ':', entry[0])"
   ]
  },
  {
   "cell_type": "code",
   "execution_count": 109,
   "metadata": {},
   "outputs": [
    {
     "name": "stdout",
     "output_type": "stream",
     "text": [
      "FAMILY : 19.292532285233015\n",
      "GAME : 9.48905109489051\n",
      "TOOLS : 8.433464345873105\n",
      "BUSINESS : 4.570466030320045\n",
      "LIFESTYLE : 3.9303761931499155\n",
      "PRODUCTIVITY : 3.885457608085345\n",
      "FINANCE : 3.6833239752947784\n",
      "MEDICAL : 3.5261089275687816\n",
      "SPORTS : 3.402582818641213\n",
      "PERSONALIZATION : 3.312745648512072\n",
      "COMMUNICATION : 3.245367770915216\n",
      "HEALTH_AND_FITNESS : 3.0544637843907916\n",
      "PHOTOGRAPHY : 2.9421673217293653\n",
      "NEWS_AND_MAGAZINES : 2.829870859067939\n",
      "SOCIAL : 2.6501965188096577\n",
      "TRAVEL_AND_LOCAL : 2.3245367770915215\n",
      "SHOPPING : 2.2459292532285233\n",
      "BOOKS_AND_REFERENCE : 2.1785513756316677\n",
      "DATING : 1.8528916339135317\n",
      "VIDEO_PLAYERS : 1.785513756316676\n",
      "MAPS_AND_NAVIGATION : 1.4149354295339696\n",
      "FOOD_AND_DRINK : 1.235261089275688\n",
      "EDUCATION : 1.1341942728804042\n",
      "LIBRARIES_AND_DEMO : 0.9320606400898372\n",
      "AUTO_AND_VEHICLES : 0.9208309938236946\n",
      "ENTERTAINMENT : 0.8759124087591241\n",
      "HOUSE_AND_HOME : 0.8197641774284109\n",
      "WEATHER : 0.7973048848961257\n",
      "EVENTS : 0.7074677147669848\n",
      "PARENTING : 0.6513194834362718\n",
      "ART_AND_DESIGN : 0.6513194834362718\n",
      "COMICS : 0.6288601909039866\n",
      "BEAUTY : 0.5951712521055587\n"
     ]
    }
   ],
   "source": [
    "display_table(app_final,1)"
   ]
  },
  {
   "cell_type": "code",
   "execution_count": 110,
   "metadata": {},
   "outputs": [
    {
     "name": "stdout",
     "output_type": "stream",
     "text": [
      "Tools : 8.422234699606962\n",
      "Entertainment : 6.086468276249298\n",
      "Education : 5.390230207748456\n",
      "Business : 4.570466030320045\n",
      "Lifestyle : 3.9191465468837734\n",
      "Productivity : 3.885457608085345\n",
      "Finance : 3.6833239752947784\n",
      "Medical : 3.5261089275687816\n",
      "Sports : 3.4475014037057834\n",
      "Personalization : 3.312745648512072\n",
      "Communication : 3.245367770915216\n",
      "Action : 3.0881527231892196\n",
      "Health & Fitness : 3.0544637843907916\n",
      "Photography : 2.9421673217293653\n",
      "News & Magazines : 2.829870859067939\n",
      "Social : 2.6501965188096577\n",
      "Travel & Local : 2.313307130825379\n",
      "Shopping : 2.2459292532285233\n",
      "Books & Reference : 2.1785513756316677\n",
      "Simulation : 2.0662549129702414\n",
      "Dating : 1.8528916339135317\n",
      "Arcade : 1.8528916339135317\n",
      "Video Players & Editors : 1.785513756316676\n",
      "Casual : 1.7405951712521055\n",
      "Maps & Navigation : 1.4149354295339696\n",
      "Food & Drink : 1.235261089275688\n",
      "Puzzle : 1.1229646266142617\n",
      "Racing : 0.9882088714205502\n",
      "Role Playing : 0.9320606400898372\n",
      "Libraries & Demo : 0.9320606400898372\n",
      "Strategy : 0.9208309938236946\n",
      "Auto & Vehicles : 0.9208309938236946\n",
      "House & Home : 0.8197641774284109\n",
      "Weather : 0.7973048848961257\n",
      "Events : 0.7074677147669848\n",
      "Adventure : 0.6850084222346996\n",
      "Comics : 0.617630544637844\n",
      "Art & Design : 0.6064008983717013\n",
      "Beauty : 0.5951712521055587\n",
      "Parenting : 0.4941044357102751\n",
      "Card : 0.43795620437956206\n",
      "Trivia : 0.4267265581134195\n",
      "Casino : 0.4267265581134195\n",
      "Educational;Education : 0.39303761931499154\n",
      "Board : 0.38180797304884895\n",
      "Educational : 0.3705783267827063\n",
      "Education;Education : 0.3481190342504211\n",
      "Word : 0.2582818641212802\n",
      "Casual;Pretend Play : 0.23582257158899494\n",
      "Music : 0.2021336327905671\n",
      "Racing;Action & Adventure : 0.16844469399213924\n",
      "Puzzle;Brain Games : 0.16844469399213924\n",
      "Entertainment;Music & Video : 0.16844469399213924\n",
      "Casual;Brain Games : 0.13475575519371139\n",
      "Casual;Action & Adventure : 0.13475575519371139\n",
      "Arcade;Action & Adventure : 0.12352610892756878\n",
      "Action;Action & Adventure : 0.10106681639528355\n",
      "Educational;Pretend Play : 0.08983717012914093\n",
      "Simulation;Action & Adventure : 0.07860752386299832\n",
      "Parenting;Education : 0.07860752386299832\n",
      "Entertainment;Brain Games : 0.07860752386299832\n",
      "Board;Brain Games : 0.07860752386299832\n",
      "Parenting;Music & Video : 0.06737787759685569\n",
      "Educational;Brain Games : 0.06737787759685569\n",
      "Casual;Creativity : 0.06737787759685569\n",
      "Art & Design;Creativity : 0.06737787759685569\n",
      "Education;Pretend Play : 0.05614823133071309\n",
      "Role Playing;Pretend Play : 0.044918585064570464\n",
      "Education;Creativity : 0.044918585064570464\n",
      "Role Playing;Action & Adventure : 0.033688938798427846\n",
      "Puzzle;Action & Adventure : 0.033688938798427846\n",
      "Entertainment;Creativity : 0.033688938798427846\n",
      "Entertainment;Action & Adventure : 0.033688938798427846\n",
      "Educational;Creativity : 0.033688938798427846\n",
      "Educational;Action & Adventure : 0.033688938798427846\n",
      "Education;Music & Video : 0.033688938798427846\n",
      "Education;Brain Games : 0.033688938798427846\n",
      "Education;Action & Adventure : 0.033688938798427846\n",
      "Adventure;Action & Adventure : 0.033688938798427846\n",
      "Video Players & Editors;Music & Video : 0.022459292532285232\n",
      "Sports;Action & Adventure : 0.022459292532285232\n",
      "Simulation;Pretend Play : 0.022459292532285232\n",
      "Puzzle;Creativity : 0.022459292532285232\n",
      "Music;Music & Video : 0.022459292532285232\n",
      "Entertainment;Pretend Play : 0.022459292532285232\n",
      "Casual;Education : 0.022459292532285232\n",
      "Board;Action & Adventure : 0.022459292532285232\n",
      "Trivia;Education : 0.011229646266142616\n",
      "Travel & Local;Action & Adventure : 0.011229646266142616\n",
      "Tools;Education : 0.011229646266142616\n",
      "Strategy;Education : 0.011229646266142616\n",
      "Strategy;Creativity : 0.011229646266142616\n",
      "Strategy;Action & Adventure : 0.011229646266142616\n",
      "Simulation;Education : 0.011229646266142616\n",
      "Role Playing;Brain Games : 0.011229646266142616\n",
      "Racing;Pretend Play : 0.011229646266142616\n",
      "Puzzle;Education : 0.011229646266142616\n",
      "Parenting;Brain Games : 0.011229646266142616\n",
      "Music & Audio;Music & Video : 0.011229646266142616\n",
      "Lifestyle;Pretend Play : 0.011229646266142616\n",
      "Lifestyle;Education : 0.011229646266142616\n",
      "Health & Fitness;Education : 0.011229646266142616\n",
      "Health & Fitness;Action & Adventure : 0.011229646266142616\n",
      "Entertainment;Education : 0.011229646266142616\n",
      "Communication;Creativity : 0.011229646266142616\n",
      "Comics;Creativity : 0.011229646266142616\n",
      "Casual;Music & Video : 0.011229646266142616\n",
      "Card;Brain Games : 0.011229646266142616\n",
      "Card;Action & Adventure : 0.011229646266142616\n",
      "Books & Reference;Education : 0.011229646266142616\n",
      "Art & Design;Pretend Play : 0.011229646266142616\n",
      "Art & Design;Action & Adventure : 0.011229646266142616\n",
      "Arcade;Pretend Play : 0.011229646266142616\n",
      "Adventure;Education : 0.011229646266142616\n"
     ]
    }
   ],
   "source": [
    "display_table(app_final,9)"
   ]
  },
  {
   "cell_type": "markdown",
   "metadata": {},
   "source": [
    "### Most Popular Apps by Genre on Google Play"
   ]
  },
  {
   "cell_type": "code",
   "execution_count": 112,
   "metadata": {},
   "outputs": [
    {
     "name": "stdout",
     "output_type": "stream",
     "text": [
      "1,000,000+ : 15.71027512633352\n",
      "100,000+ : 11.588994946659179\n",
      "10,000,000+ : 10.454800673778776\n",
      "10,000+ : 10.263896687254352\n",
      "1,000+ : 8.422234699606962\n",
      "100+ : 6.917462099943853\n",
      "5,000,000+ : 6.816395283548568\n",
      "500,000+ : 5.53621560920831\n",
      "50,000+ : 4.817518248175182\n",
      "5,000+ : 4.525547445255475\n",
      "10+ : 3.537338573834924\n",
      "500+ : 3.2341381246490735\n",
      "50,000,000+ : 2.2908478382930935\n",
      "100,000,000+ : 2.1224031443009546\n",
      "50+ : 1.9090398652442448\n",
      "5+ : 0.7860752386299831\n",
      "1+ : 0.5165637282425604\n",
      "500,000,000+ : 0.26951151038742277\n",
      "1,000,000,000+ : 0.22459292532285235\n",
      "0+ : 0.044918585064570464\n",
      "0 : 0.011229646266142616\n"
     ]
    }
   ],
   "source": [
    "display_table(app_final, 5) # the Installs columns"
   ]
  },
  {
   "cell_type": "code",
   "execution_count": null,
   "metadata": {},
   "outputs": [],
   "source": []
  }
 ],
 "metadata": {
  "kernelspec": {
   "display_name": "Python 3",
   "language": "python",
   "name": "python3"
  },
  "language_info": {
   "codemirror_mode": {
    "name": "ipython",
    "version": 3
   },
   "file_extension": ".py",
   "mimetype": "text/x-python",
   "name": "python",
   "nbconvert_exporter": "python",
   "pygments_lexer": "ipython3",
   "version": "3.7.1"
  }
 },
 "nbformat": 4,
 "nbformat_minor": 2
}
